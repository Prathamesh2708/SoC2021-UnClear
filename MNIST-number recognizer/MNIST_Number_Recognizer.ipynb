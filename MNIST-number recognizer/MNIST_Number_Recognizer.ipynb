{
  "nbformat": 4,
  "nbformat_minor": 0,
  "metadata": {
    "colab": {
      "name": "MNIST_Number_Recognizer.ipynb",
      "provenance": [],
      "collapsed_sections": [],
      "toc_visible": true
    },
    "kernelspec": {
      "name": "python3",
      "display_name": "Python 3"
    },
    "language_info": {
      "name": "python"
    },
    "accelerator": "GPU"
  },
  "cells": [
    {
      "cell_type": "markdown",
      "metadata": {
        "id": "L7cztoJBAHH9"
      },
      "source": [
        "## **MNIST Number Recongnizer**\n",
        "-Assignment 2\n",
        "\n"
      ]
    },
    {
      "cell_type": "markdown",
      "metadata": {
        "id": "Myk-BYeEAb5L"
      },
      "source": [
        "**Importing Necessary modules**"
      ]
    },
    {
      "cell_type": "code",
      "metadata": {
        "id": "cOSNEVEZm-cQ"
      },
      "source": [
        "import tensorflow as tf\n",
        "import numpy as np\n",
        "import pandas as pd\n",
        "import matplotlib.pyplot as plt\n"
      ],
      "execution_count": null,
      "outputs": []
    },
    {
      "cell_type": "code",
      "metadata": {
        "id": "Y3ubJWkwojWb"
      },
      "source": [
        "from google.colab import files"
      ],
      "execution_count": null,
      "outputs": []
    },
    {
      "cell_type": "markdown",
      "metadata": {
        "id": "_LhcGxdJAt4g"
      },
      "source": [
        "**Loading the data**"
      ]
    },
    {
      "cell_type": "code",
      "metadata": {
        "colab": {
          "base_uri": "https://localhost:8080/"
        },
        "id": "3scQ5YqUoIVv",
        "outputId": "8c4abbfc-777d-4757-bbf1-b61a434af032"
      },
      "source": [
        "\n",
        "#uploading of files manually\n",
        "!unzip test.csv.zip\n",
        "!unzip train.csv.zip "
      ],
      "execution_count": null,
      "outputs": [
        {
          "output_type": "stream",
          "text": [
            "unzip:  cannot find or open test.csv.zip, test.csv.zip.zip or test.csv.zip.ZIP.\n",
            "unzip:  cannot find or open train.csv.zip, train.csv.zip.zip or train.csv.zip.ZIP.\n"
          ],
          "name": "stdout"
        }
      ]
    },
    {
      "cell_type": "code",
      "metadata": {
        "id": "eLiYgv3Npdfv"
      },
      "source": [
        "train_dataset = pd.read_csv('train.csv')\n",
        "test_dataset = pd.read_csv('test.csv')"
      ],
      "execution_count": null,
      "outputs": []
    },
    {
      "cell_type": "code",
      "metadata": {
        "id": "I3VF6mxCrRRP"
      },
      "source": [
        "def x(data_set):\n",
        "  train = np.zeros((784 , data_set.shape[0]//3*2),dtype = float)\n",
        "  valid = np.zeros((784 , data_set.shape[0]-data_set.shape[0]//3*2),dtype = float)\n",
        "  for i in range(784):\n",
        "    train[i] = data_set['pixel'+str(i)][:data_set.shape[0]//3*2]\n",
        "    valid[i] = data_set['pixel'+str(i)][data_set.shape[0]//3*2:]\n",
        "\n",
        "  train = train.T.reshape( data_set.shape[0]//3*2,28,28,1)\n",
        "  train /= 255\n",
        "  valid = valid.T.reshape( data_set.shape[0]-data_set.shape[0]//3*2,28,28,1)\n",
        "  valid /= 255\n",
        "  return train,valid\n"
      ],
      "execution_count": null,
      "outputs": []
    },
    {
      "cell_type": "code",
      "metadata": {
        "id": "ziJcaU1EsvdV"
      },
      "source": [
        "x_train,x_valid = x(train_dataset)"
      ],
      "execution_count": null,
      "outputs": []
    },
    {
      "cell_type": "code",
      "metadata": {
        "id": "EUX267Q-uNpf"
      },
      "source": [
        "y_train = np.array(train_dataset['label'][:train_dataset.shape[0]//3*2])\n",
        "y_valid = np.array(train_dataset['label'][train_dataset.shape[0]//3*2:])"
      ],
      "execution_count": null,
      "outputs": []
    },
    {
      "cell_type": "markdown",
      "metadata": {
        "id": "iA63T3UMcIjH"
      },
      "source": [
        "**Training of the model**"
      ]
    },
    {
      "cell_type": "code",
      "metadata": {
        "id": "2Py0FuUVp4Zg"
      },
      "source": [
        "model = tf.keras.Sequential([\n",
        "      tf.keras.layers.Conv2D( 32 ,(3,3) ,strides = (1,1) , activation = 'relu' ,input_shape = (28,28,1) ),\n",
        "      tf.keras.layers.MaxPooling2D((2, 2), strides=2),\n",
        "      tf.keras.layers.Flatten(),\n",
        "      tf.keras.layers.Dense(128, activation=tf.nn.relu),\n",
        "      tf.keras.layers.Dense(10, activation=tf.nn.softmax)\n",
        "])"
      ],
      "execution_count": null,
      "outputs": []
    },
    {
      "cell_type": "code",
      "metadata": {
        "id": "UAUFQUkjwOoa"
      },
      "source": [
        "model.compile(optimizer='adam',\n",
        "              loss=tf.keras.losses.SparseCategoricalCrossentropy(),\n",
        "              metrics=['accuracy'])"
      ],
      "execution_count": null,
      "outputs": []
    },
    {
      "cell_type": "code",
      "metadata": {
        "colab": {
          "base_uri": "https://localhost:8080/"
        },
        "id": "svA-6Fvmw-bc",
        "outputId": "8e6d8d96-5253-4122-a0a8-a42e64debfca"
      },
      "source": [
        "model.fit(x_train , y_train , epochs = 10, validation_data=(x_valid , y_valid))"
      ],
      "execution_count": null,
      "outputs": [
        {
          "output_type": "stream",
          "text": [
            "Epoch 1/4\n",
            "875/875 [==============================] - 17s 19ms/step - loss: 0.4524 - accuracy: 0.8688 - val_loss: 0.0919 - val_accuracy: 0.9716\n",
            "Epoch 2/4\n",
            "875/875 [==============================] - 16s 19ms/step - loss: 0.0743 - accuracy: 0.9782 - val_loss: 0.0819 - val_accuracy: 0.9737\n",
            "Epoch 3/4\n",
            "875/875 [==============================] - 16s 19ms/step - loss: 0.0389 - accuracy: 0.9888 - val_loss: 0.0695 - val_accuracy: 0.9791\n",
            "Epoch 4/4\n",
            "875/875 [==============================] - 16s 18ms/step - loss: 0.0293 - accuracy: 0.9919 - val_loss: 0.0622 - val_accuracy: 0.9805\n"
          ],
          "name": "stdout"
        },
        {
          "output_type": "execute_result",
          "data": {
            "text/plain": [
              "<tensorflow.python.keras.callbacks.History at 0x7f028a8ba890>"
            ]
          },
          "metadata": {
            "tags": []
          },
          "execution_count": 50
        }
      ]
    },
    {
      "cell_type": "code",
      "metadata": {
        "id": "Yok4FYpOjctx"
      },
      "source": [
        "def x(data_set):\n",
        "  train = np.zeros((784 , data_set.shape[0]),dtype = float)\n",
        "  for i in range(784):\n",
        "    train[i] = data_set['pixel'+str(i)]\n",
        "  train = train.T.reshape( data_set.shape[0],28,28,1)\n",
        "  train /= 255\n",
        "  return train\n"
      ],
      "execution_count": null,
      "outputs": []
    },
    {
      "cell_type": "code",
      "metadata": {
        "id": "E1nAa2rkocaH"
      },
      "source": [
        "x_test = x(test_dataset)"
      ],
      "execution_count": null,
      "outputs": []
    },
    {
      "cell_type": "code",
      "metadata": {
        "id": "veY0PTZrh4CS"
      },
      "source": [
        "prediction = model.predict(x_test)\n",
        "for i in range(0,5):\n",
        "  image = plt.imshow(x_test[i])\n",
        "  print(prediciton[i])"
      ],
      "execution_count": null,
      "outputs": []
    },
    {
      "cell_type": "code",
      "metadata": {
        "id": "aqS15ktNou8S"
      },
      "source": [
        "data = {\n",
        "    'ImageId': [i for i in range(1,len(final)+1)],\n",
        "    \"Label\":final\n",
        "}\n",
        "df = pd.DataFrame(data,columns = [\"ImageId\",'Label'])"
      ],
      "execution_count": null,
      "outputs": []
    },
    {
      "cell_type": "code",
      "metadata": {
        "colab": {
          "base_uri": "https://localhost:8080/",
          "height": 17
        },
        "id": "rGX3VQnfow8S",
        "outputId": "8383cda7-3aff-46d3-caeb-078f5dffceef"
      },
      "source": [
        "df.to_csv('predictions.csv',index = False)\n",
        "files.download('predictions.csv')"
      ],
      "execution_count": null,
      "outputs": [
        {
          "output_type": "display_data",
          "data": {
            "application/javascript": [
              "\n",
              "    async function download(id, filename, size) {\n",
              "      if (!google.colab.kernel.accessAllowed) {\n",
              "        return;\n",
              "      }\n",
              "      const div = document.createElement('div');\n",
              "      const label = document.createElement('label');\n",
              "      label.textContent = `Downloading \"${filename}\": `;\n",
              "      div.appendChild(label);\n",
              "      const progress = document.createElement('progress');\n",
              "      progress.max = size;\n",
              "      div.appendChild(progress);\n",
              "      document.body.appendChild(div);\n",
              "\n",
              "      const buffers = [];\n",
              "      let downloaded = 0;\n",
              "\n",
              "      const channel = await google.colab.kernel.comms.open(id);\n",
              "      // Send a message to notify the kernel that we're ready.\n",
              "      channel.send({})\n",
              "\n",
              "      for await (const message of channel.messages) {\n",
              "        // Send a message to notify the kernel that we're ready.\n",
              "        channel.send({})\n",
              "        if (message.buffers) {\n",
              "          for (const buffer of message.buffers) {\n",
              "            buffers.push(buffer);\n",
              "            downloaded += buffer.byteLength;\n",
              "            progress.value = downloaded;\n",
              "          }\n",
              "        }\n",
              "      }\n",
              "      const blob = new Blob(buffers, {type: 'application/binary'});\n",
              "      const a = document.createElement('a');\n",
              "      a.href = window.URL.createObjectURL(blob);\n",
              "      a.download = filename;\n",
              "      div.appendChild(a);\n",
              "      a.click();\n",
              "      div.remove();\n",
              "    }\n",
              "  "
            ],
            "text/plain": [
              "<IPython.core.display.Javascript object>"
            ]
          },
          "metadata": {
            "tags": []
          }
        },
        {
          "output_type": "display_data",
          "data": {
            "application/javascript": [
              "download(\"download_5911df7c-5e33-4f1b-8cc0-fa7eae7bb467\", \"predictions.csv\", 212908)"
            ],
            "text/plain": [
              "<IPython.core.display.Javascript object>"
            ]
          },
          "metadata": {
            "tags": []
          }
        }
      ]
    }
  ]
}